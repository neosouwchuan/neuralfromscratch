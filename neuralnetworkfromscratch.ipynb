{
 "cells": [
  {
   "cell_type": "code",
   "execution_count": 1,
   "metadata": {},
   "outputs": [],
   "source": [
    "import pandas as pd\n",
    "df = pd.read_csv(\"healthcare-dataset-stroke-data.csv\")"
   ]
  },
  {
   "cell_type": "code",
   "execution_count": 2,
   "metadata": {},
   "outputs": [
    {
     "name": "stdout",
     "output_type": "stream",
     "text": [
      "         id  gender   age  hypertension  heart_disease ever_married  \\\n",
      "0      9046    Male  67.0             0              1          Yes   \n",
      "1     51676  Female  61.0             0              0          Yes   \n",
      "2     31112    Male  80.0             0              1          Yes   \n",
      "3     60182  Female  49.0             0              0          Yes   \n",
      "4      1665  Female  79.0             1              0          Yes   \n",
      "...     ...     ...   ...           ...            ...          ...   \n",
      "5105  18234  Female  80.0             1              0          Yes   \n",
      "5106  44873  Female  81.0             0              0          Yes   \n",
      "5107  19723  Female  35.0             0              0          Yes   \n",
      "5108  37544    Male  51.0             0              0          Yes   \n",
      "5109  44679  Female  44.0             0              0          Yes   \n",
      "\n",
      "          work_type Residence_type  avg_glucose_level   bmi   smoking_status  \\\n",
      "0           Private          Urban             228.69  36.6  formerly smoked   \n",
      "1     Self-employed          Rural             202.21   NaN     never smoked   \n",
      "2           Private          Rural             105.92  32.5     never smoked   \n",
      "3           Private          Urban             171.23  34.4           smokes   \n",
      "4     Self-employed          Rural             174.12  24.0     never smoked   \n",
      "...             ...            ...                ...   ...              ...   \n",
      "5105        Private          Urban              83.75   NaN     never smoked   \n",
      "5106  Self-employed          Urban             125.20  40.0     never smoked   \n",
      "5107  Self-employed          Rural              82.99  30.6     never smoked   \n",
      "5108        Private          Rural             166.29  25.6  formerly smoked   \n",
      "5109       Govt_job          Urban              85.28  26.2          Unknown   \n",
      "\n",
      "      stroke  \n",
      "0          1  \n",
      "1          1  \n",
      "2          1  \n",
      "3          1  \n",
      "4          1  \n",
      "...      ...  \n",
      "5105       0  \n",
      "5106       0  \n",
      "5107       0  \n",
      "5108       0  \n",
      "5109       0  \n",
      "\n",
      "[5110 rows x 12 columns]\n"
     ]
    }
   ],
   "source": [
    "print(df)\n"
   ]
  },
  {
   "cell_type": "code",
   "execution_count": 3,
   "metadata": {},
   "outputs": [
    {
     "name": "stdout",
     "output_type": "stream",
     "text": [
      "0       36.6\n",
      "2       32.5\n",
      "3       34.4\n",
      "4       24.0\n",
      "5       29.0\n",
      "        ... \n",
      "5100    28.3\n",
      "5102    21.7\n",
      "5106    40.0\n",
      "5107    30.6\n",
      "5108    25.6\n",
      "Name: bmi, Length: 3426, dtype: float64\n",
      "         id gender   age  hypertension  heart_disease  ever_married  \\\n",
      "0      9046      1  67.0             0              1             1   \n",
      "2     31112      1  80.0             0              1             1   \n",
      "3     60182      0  49.0             0              0             1   \n",
      "4      1665      0  79.0             1              0             1   \n",
      "5     56669      1  81.0             0              0             1   \n",
      "...     ...    ...   ...           ...            ...           ...   \n",
      "5100  68398      1  82.0             1              0             1   \n",
      "5102  45010      0  57.0             0              0             1   \n",
      "5106  44873      0  81.0             0              0             1   \n",
      "5107  19723      0  35.0             0              0             1   \n",
      "5108  37544      1  51.0             0              0             1   \n",
      "\n",
      "      work_type  Residence_type  avg_glucose_level   bmi smoking_status  \\\n",
      "0             2               1             228.69  36.6              1   \n",
      "2             2               0             105.92  32.5              0   \n",
      "3             2               1             171.23  34.4              2   \n",
      "4             0               0             174.12  24.0              0   \n",
      "5             2               1             186.21  29.0              1   \n",
      "...         ...             ...                ...   ...            ...   \n",
      "5100          0               0              71.97  28.3              0   \n",
      "5102          2               0              77.93  21.7              0   \n",
      "5106          0               1             125.20  40.0              0   \n",
      "5107          0               0              82.99  30.6              0   \n",
      "5108          2               0             166.29  25.6              1   \n",
      "\n",
      "      stroke  \n",
      "0          1  \n",
      "2          1  \n",
      "3          1  \n",
      "4          1  \n",
      "5          1  \n",
      "...      ...  \n",
      "5100       0  \n",
      "5102       0  \n",
      "5106       0  \n",
      "5107       0  \n",
      "5108       0  \n",
      "\n",
      "[3426 rows x 12 columns]\n"
     ]
    }
   ],
   "source": [
    "df[\"gender\"].replace({\"Male\": 1, \"Female\": 0}, inplace=True)\n",
    "df[\"gender\"].replace({\"Male\": 1, \"Female\": 0}, inplace=True)\n",
    "df[\"ever_married\"].replace({\"Yes\": 1, \"No\": 0}, inplace=True)\n",
    "df[\"work_type\"].replace({\"Self-employed\": 0, \"Govt_job\": 1,\"Private\":2,\"children\":-1,\"Never_worked\" : -2}, inplace=True)\n",
    "df[\"Residence_type\"].replace({\"Rural\": 0, \"Urban\": 1}, inplace=True)\n",
    "df[\"smoking_status\"].replace({\"never smoked\": 0, \"formerly smoked\":1,\"smokes\":2}, inplace=True)\n",
    "df = df.dropna()\n",
    "df = df[df.smoking_status!=\"Unknown\"]\n",
    "df = df[df.smoking_status!=\"Other\"]\n",
    "df[\"smoking_status\"].apply(int)\n",
    "print(df.bmi)\n",
    "print(df)"
   ]
  },
  {
   "cell_type": "code",
   "execution_count": 64,
   "metadata": {},
   "outputs": [
    {
     "name": "stdout",
     "output_type": "stream",
     "text": [
      "id                     int64\n",
      "gender                object\n",
      "age                  float64\n",
      "hypertension           int64\n",
      "heart_disease          int64\n",
      "ever_married           int64\n",
      "work_type              int64\n",
      "Residence_type         int64\n",
      "avg_glucose_level    float64\n",
      "bmi                  float64\n",
      "smoking_status        object\n",
      "stroke                 int64\n",
      "dtype: object\n"
     ]
    }
   ],
   "source": [
    "print(df.dtypes)"
   ]
  },
  {
   "cell_type": "code",
   "execution_count": 85,
   "metadata": {},
   "outputs": [
    {
     "data": {
      "text/plain": [
       "array([[<AxesSubplot:title={'center':'id'}>,\n",
       "        <AxesSubplot:title={'center':'age'}>,\n",
       "        <AxesSubplot:title={'center':'hypertension'}>],\n",
       "       [<AxesSubplot:title={'center':'heart_disease'}>,\n",
       "        <AxesSubplot:title={'center':'avg_glucose_level'}>,\n",
       "        <AxesSubplot:title={'center':'bmi'}>],\n",
       "       [<AxesSubplot:title={'center':'stroke'}>, <AxesSubplot:>,\n",
       "        <AxesSubplot:>]], dtype=object)"
      ]
     },
     "execution_count": 85,
     "metadata": {},
     "output_type": "execute_result"
    },
    {
     "data": {
      "image/png": "[encoded data removed]",
      "text/plain": [
       "<Figure size 432x288 with 9 Axes>"
      ]
     },
     "metadata": {
      "needs_background": "light"
     },
     "output_type": "display_data"
    }
   ],
   "source": [
    "df.hist()"
   ]
  },
  {
   "cell_type": "code",
   "execution_count": 107,
   "metadata": {},
   "outputs": [
    {
     "name": "stdout",
     "output_type": "stream",
     "text": [
      "[1, 0, 2]\n"
     ]
    }
   ],
   "source": [
    "temp = []\n",
    "\n",
    "for i in df[\"smoking_status\"].values:\n",
    "    #print(i)\n",
    "    if i not in temp:\n",
    "        temp.append( i )\n",
    "print(temp)"
   ]
  },
  {
   "cell_type": "code",
   "execution_count": 70,
   "metadata": {},
   "outputs": [
    {
     "data": {
      "text/plain": [
       "0.08638156714977442"
      ]
     },
     "execution_count": 70,
     "metadata": {},
     "output_type": "execute_result"
    }
   ],
   "source": [
    "import torch \n",
    "import numpy as np\n",
    "def sigmoid(value):\n",
    "    #must be none array\n",
    "    return 1/(1+np.exp(-value))\n",
    "def sigmoidder(value):\n",
    "    return sigmoid(value)*(1-sigmoid(value))\n",
    "class neuron():\n",
    "    def __init__(self,sizeweight):\n",
    "        self._size = sizeweight\n",
    "        self._weights = torch.tensor(np.random.uniform(-1,1,sizeweight))\n",
    "        self._batchUpdate = torch.tensor(np.zeros(sizeweight))\n",
    "    def forward(self, inputtensor):\n",
    "        inputtensor = inputtensor.to(torch.float64)\n",
    "        output = torch.matmul(inputtensor,self._weights)\n",
    "        \n",
    "        output = sigmoid(output.item())\n",
    "        return output\n",
    "    def backprop(self,error,firstweights,output):\n",
    "        sigder = sigmoidder(output)\n",
    "        for i in range(self._size):\n",
    "            self._batchUpdate[i] += error*sigder*firstweights[i] * lr\n",
    "            #print(error*sigder*firstweights[i])\n",
    "    def update(self):\n",
    "        for i in range(self._size):\n",
    "            self._weights[i] = self._batchUpdate[i]\n",
    "        self._batchUpdate = torch.tensor(np.zeros(self._size))\n",
    "        \n",
    "temp = neuron(9)\n",
    "temp.forward(torch.tensor([0,5,3,2,4,5,2,3,1]))"
   ]
  },
  {
   "cell_type": "code",
   "execution_count": 66,
   "metadata": {},
   "outputs": [
    {
     "name": "stdout",
     "output_type": "stream",
     "text": [
      "tensor([-0.5995, -0.9746, -0.5167,  0.7632, -0.3979,  0.6438, -0.6984, -0.4395,\n",
      "         0.5066], dtype=torch.float64)\n",
      "0.7703164715115639\n",
      "tensor([ 0.0002,  0.0016,  0.0015,  0.0018,  0.0005, -0.0015, -0.0007,  0.0009,\n",
      "        -0.0002], dtype=torch.float64)\n",
      "0.49845708495527774\n",
      "tensor([ 0.0001,  0.0010,  0.0009,  0.0011,  0.0003, -0.0009, -0.0004,  0.0006,\n",
      "        -0.0001], dtype=torch.float64)\n",
      "0.4990494236225689\n",
      "tensor([ 0.0001,  0.0010,  0.0009,  0.0011,  0.0003, -0.0009, -0.0004,  0.0006,\n",
      "        -0.0001], dtype=torch.float64)\n",
      "0.499048155604652\n",
      "tensor([ 0.0001,  0.0010,  0.0009,  0.0011,  0.0003, -0.0009, -0.0004,  0.0006,\n",
      "        -0.0001], dtype=torch.float64)\n",
      "0.4990481583192996\n",
      "tensor([ 0.0001,  0.0010,  0.0009,  0.0011,  0.0003, -0.0009, -0.0004,  0.0006,\n",
      "        -0.0001], dtype=torch.float64)\n",
      "0.4990481583134879\n",
      "tensor([ 0.0001,  0.0010,  0.0009,  0.0011,  0.0003, -0.0009, -0.0004,  0.0006,\n",
      "        -0.0001], dtype=torch.float64)\n",
      "0.49904815831350036\n",
      "tensor([ 0.0001,  0.0010,  0.0009,  0.0011,  0.0003, -0.0009, -0.0004,  0.0006,\n",
      "        -0.0001], dtype=torch.float64)\n",
      "0.49904815831350036\n",
      "tensor([ 0.0001,  0.0010,  0.0009,  0.0011,  0.0003, -0.0009, -0.0004,  0.0006,\n",
      "        -0.0001], dtype=torch.float64)\n",
      "0.49904815831350036\n",
      "tensor([ 0.0001,  0.0010,  0.0009,  0.0011,  0.0003, -0.0009, -0.0004,  0.0006,\n",
      "        -0.0001], dtype=torch.float64)\n",
      "0.49904815831350036\n",
      "tensor([ 0.0001,  0.0010,  0.0009,  0.0011,  0.0003, -0.0009, -0.0004,  0.0006,\n",
      "        -0.0001], dtype=torch.float64)\n"
     ]
    }
   ],
   "source": [
    "inputt = torch.tensor([ 0.0884,  0.8455,  0.7856,  0.9237,  0.2631, -0.7903, -0.3475,  0.4791,\n",
    "        -0.1002], dtype=torch.float64)\n",
    "temp = neuron(9)\n",
    "lr = 0.01\n",
    "for i in range(10):\n",
    "    output = temp.forward(inputt)\n",
    "    target = 1\n",
    "    error = target - output\n",
    "    print(error)\n",
    "    temp.backprop(error,inputt,output)\n",
    "    temp.update()\n",
    "    print(temp._weights)"
   ]
  },
  {
   "cell_type": "code",
   "execution_count": 66,
   "metadata": {},
   "outputs": [
    {
     "name": "stdout",
     "output_type": "stream",
     "text": [
      "Index(['gender', 'age', 'hypertension', 'heart_disease', 'ever_married',\n",
      "       'work_type', 'Residence_type', 'avg_glucose_level', 'bmi',\n",
      "       'smoking_status'],\n",
      "      dtype='object')\n"
     ]
    }
   ],
   "source": [
    "Y_col = 'stroke'\n",
    "df = df.loc[:, df.columns!='id']\n",
    "X_cols = df.loc[:, df.columns != Y_col].columns\n",
    "print(X_cols)"
   ]
  },
  {
   "cell_type": "code",
   "execution_count": 67,
   "metadata": {},
   "outputs": [],
   "source": [
    "from sklearn.model_selection import train_test_split\n",
    "X_train, X_test, y_train, y_test = train_test_split(df[X_cols], df[Y_col],test_size=0.2, random_state=42)"
   ]
  },
  {
   "cell_type": "code",
   "execution_count": 68,
   "metadata": {},
   "outputs": [
    {
     "name": "stdout",
     "output_type": "stream",
     "text": [
      "2740\n"
     ]
    }
   ],
   "source": [
    "print(len(y_train))"
   ]
  },
  {
   "cell_type": "code",
   "execution_count": 69,
   "metadata": {},
   "outputs": [
    {
     "name": "stdout",
     "output_type": "stream",
     "text": [
      "1\n"
     ]
    }
   ],
   "source": [
    "print(X_train.iloc[5][0])"
   ]
  },
  {
   "cell_type": "code",
   "execution_count": 64,
   "metadata": {},
   "outputs": [
    {
     "name": "stdout",
     "output_type": "stream",
     "text": [
      "tensor([ 0.0099, -0.7184, -0.2273,  0.9030,  0.3660,  0.2992,  0.6727, -0.9302,\n",
      "         0.4540,  0.1953], dtype=torch.float64)\n",
      "-0.40901936009827455\n",
      "-0.4797926613286948\n",
      "-0.4124649749179131\n",
      "-0.4717599057432798\n",
      "-0.41383211052698377\n",
      "-0.47351237171244137\n",
      "-0.40932129974825493\n",
      "-0.47927035422221415\n",
      "-0.4114373522105062\n",
      "-0.47383204624211117\n",
      "-0.41362215503788824\n",
      "-0.46774794374839607\n",
      "-0.4133619916792591\n",
      "-0.4772863263176049\n",
      "-0.4100225273457496\n",
      "-0.47600156821580814\n",
      "-0.41072368648927\n",
      "-0.4780627209692115\n",
      "-0.40985444001568716\n",
      "-0.46960150905340503\n"
     ]
    }
   ],
   "source": [
    "import numpy as np\n",
    "epochs = 20\n",
    "trainSize = len(X_train)\n",
    "lr = 0.0001\n",
    "global lr\n",
    "temp = neuron(10)\n",
    "X_trainnp = X_train.to_numpy()\n",
    "Y_trainnp = y_train.to_numpy()\n",
    "batchSize = 256\n",
    "for epochNum in range(epochs):\n",
    "    sampleOrder = np.arange(trainSize)\n",
    "    np.random.shuffle(sampleOrder)\n",
    "    totalerror = 0\n",
    "    for batchNum in range(trainSize//batchSize + 1):\n",
    "        batchInd = sampleOrder[:batchSize]\n",
    "        sampleOrder = sampleOrder[batchSize:]\n",
    "        batch = X_trainnp[batchInd,:]\n",
    "        batchTarget = Y_trainnp[batchInd]\n",
    "        #print(batch)\n",
    "        for i in range(len(batch)):\n",
    "            #print(batch[i])\n",
    "            batchinput = torch.Tensor(np.float64(batch[i]))\n",
    "            output = temp.forward(batchinput)\n",
    "            error = batchTarget[i] - output\n",
    "            totalerror += error\n",
    "            temp.backprop(error,batch[i],output)\n",
    "        temp.update()\n",
    "    totalerror = totalerror/trainSize\n",
    "    print(totalerror)\n",
    "    "
   ]
  },
  {
   "cell_type": "code",
   "execution_count": 71,
   "metadata": {},
   "outputs": [
    {
     "name": "stdout",
     "output_type": "stream",
     "text": [
      "<class '__main__.Model'>\n",
      "tensor([0.3564])\n",
      "tensor([0.5179])\n",
      "tensor([0.5179])\n",
      "tensor([0.5279])\n",
      "tensor([0.5279])\n",
      "tensor([0.5428])\n",
      "tensor([0.5428])\n",
      "tensor([0.5629])\n",
      "tensor([0.5629])\n",
      "tensor([0.5877])\n",
      "tensor([0.5877])\n",
      "tensor([0.6165])\n",
      "tensor([0.6165])\n",
      "tensor([0.6485])\n",
      "tensor([0.6485])\n",
      "tensor([0.6826])\n",
      "tensor([0.6826])\n",
      "tensor([0.7178])\n",
      "tensor([0.7178])\n",
      "tensor([0.7528])\n"
     ]
    }
   ],
   "source": [
    "import torch \n",
    "import numpy as np\n",
    "lr = 0.01\n",
    "global lr\n",
    "def sigmoid(value):\n",
    "    #must be none array\n",
    "    return 1/(1+np.exp(-value))\n",
    "def sigmoidder(value):\n",
    "    return sigmoid(value)*(1-sigmoid(value))\n",
    "class neuron():\n",
    "    def __init__(self,sizeweight):\n",
    "        self._size = sizeweight\n",
    "        self._weights = torch.tensor(np.random.uniform(-1,1,sizeweight))\n",
    "        self._batchUpdate = torch.tensor(np.zeros(sizeweight))\n",
    "        self._bias = torch.tensor(np.random.uniform(-1,1))\n",
    "        self._batchBias = 0\n",
    "    def forward(self, inputtensor):\n",
    "        #print(inputtensor)\n",
    "        inputtensor = inputtensor.to(torch.float64)\n",
    "        try:\n",
    "            output = torch.matmul(inputtensor,self._weights)\n",
    "        except:\n",
    "            print(inputtensor.shape,self._weights.shape)\n",
    "        output += self._bias\n",
    "        output = sigmoid(output.item())\n",
    "        return output\n",
    "    def backprop(self,error,firstweights,output):\n",
    "        sigder = sigmoidder(output)\n",
    "        for i in range(self._size):\n",
    "            self._batchUpdate[i] += torch.squeeze(error*sigder*firstweights[i] * lr)\n",
    "            self._batchBias += error * sigder*1*lr\n",
    "            #print(error*sigder*firstweights[i])\n",
    "    def update(self):\n",
    "        for i in range(self._size):\n",
    "            self._weights[i] = self._batchUpdate[i]\n",
    "        self._bias += torch.squeeze(self._batchBias)\n",
    "        self._batchUpdate = torch.tensor(np.zeros(self._size))\n",
    "        self.batchBias = 0\n",
    "class Layer():\n",
    "    def __init__(self,width,depth):\n",
    "        #width is number of neurons depth is size of neuron, remember from cv that depth is the \n",
    "        self._width = width\n",
    "        self._depth = depth\n",
    "        self._neurons = []\n",
    "        for i in range(width):\n",
    "            self._neurons.append(neuron(depth))\n",
    "    def forward(self,inputtensor):\n",
    "        output = torch.zeros(self._width)\n",
    "        \n",
    "        for i in range(self._width):\n",
    "            output[i] = self._neurons[i].forward(inputtensor)\n",
    "        return output\n",
    "    def backprop(self,error,layerinputtensor,output):\n",
    "        #for this one error is an array\n",
    "        #an erorr is calculated by the sum of the neuron output's weights in the next layer * error for each next layer neuron.\n",
    "        #thus an error exists for each neuron within the layer\n",
    "        #for simplicity sake the error is calculated outside of backprop\n",
    "        for i in range(self._width):\n",
    "            self._neurons[i].backprop(error[i],layerinputtensor,output[i])\n",
    "        #remember layerinputtensor is fed into all tensors\n",
    "    def update(self):\n",
    "        for i in range(self._width):\n",
    "            self._neurons[i].update()\n",
    "class Model():\n",
    "    def __init__(self):\n",
    "        self._layers = []\n",
    "        self._layers.append(Layer(20,10))\n",
    "        self._layers.append(Layer(10,20))\n",
    "        self._layers.append(Layer(1,10))\n",
    "        self.size = len(self._layers)\n",
    "    def retrieve(self,layerno,neuronno,weightno):\n",
    "        #literally does what u think it does retreives weight from Model[layerno][neuronno][weightno]\n",
    "        return self._layers[layerno]._neurons[neuronno]._weights[weightno]\n",
    "    def forward(self,trainrow,target):\n",
    "        \n",
    "        internals = [trainrow]\n",
    "        for i in range(len(self._layers)):\n",
    "            \n",
    "            internals.append(self._layers[i].forward(internals[-1]))\n",
    "            \n",
    "            #print(output.shape)\n",
    "        #print(internals)\n",
    "        error = target - internals[-1]\n",
    "        errorstorage = [0 for i in range(self.size)]\n",
    "\n",
    "        for i in range(self.size-1,-1,-1):\n",
    "            #i here represents the layer to calculate the error for\n",
    "            #print(\"i\",i)\n",
    "            #need to calculate individual error for each layer\n",
    "            if i == len(self._layers)-1:\n",
    "                errorstorage[i] = [error]\n",
    "            else:\n",
    "                temperrorarray = torch.zeros(self._layers[i]._width)\n",
    "                for j in range(0,self._layers[i]._width):\n",
    "                    #print(\"j\",j)\n",
    "                    #j here goes through every neuron in the layer to calculate error\n",
    "                    #print(temperrorarray)\n",
    "                    for k in range(self._layers[i+1]._width):\n",
    "                        #print(k)\n",
    "                        #print(temperrorarray[k])\n",
    "                        #k goes through the neurons with calculated errors in the next layer\n",
    "                        temperrorarray[j] += torch.squeeze(errorstorage[i+1][k]*self.retrieve(i+1,k,j),dim=0)\n",
    "                errorstorage[i]=temperrorarray\n",
    "        #print(\"errorstorage\",errorstorage)\n",
    "        for i in range(self.size):\n",
    "            self._layers[i].backprop(errorstorage[i],internals[i],internals[i+1])\n",
    "        return internals[-1]\n",
    "    def update(self):\n",
    "        for i in range(self.size):\n",
    "            self._layers[i].update()\n",
    "testinput = torch.tensor([ 0.0099, -0.7184, -0.2273,  0.9030,  0.3660,  0.2992,  0.6727, -0.9302,0.4540,  0.1953], dtype=torch.float64)\n",
    "testModel = Model()\n",
    "print(type(testModel))\n",
    "for i in range(10):\n",
    "    print(testModel.forward(testinput,1))\n",
    "    testModel.update()\n",
    "    print(testModel.forward(testinput,1))\n"
   ]
  },
  {
   "cell_type": "code",
   "execution_count": 75,
   "metadata": {},
   "outputs": [
    {
     "name": "stdout",
     "output_type": "stream",
     "text": [
      "0\n",
      "tensor([0.4128])\n",
      "1\n",
      "tensor([0.1159])\n",
      "2\n",
      "tensor([0.0546])\n",
      "3\n",
      "tensor([0.0501])\n",
      "4\n",
      "tensor([0.0497])\n",
      "5\n",
      "tensor([0.0496])\n",
      "6\n",
      "tensor([0.0496])\n",
      "7\n",
      "tensor([0.0496])\n",
      "8\n",
      "tensor([0.0496])\n",
      "9\n",
      "tensor([0.0496])\n",
      "10\n",
      "tensor([0.0496])\n",
      "11\n",
      "tensor([0.0496])\n",
      "12\n",
      "tensor([0.0496])\n",
      "13\n",
      "tensor([0.0497])\n",
      "14\n",
      "tensor([0.0497])\n",
      "15\n",
      "tensor([0.0505])\n",
      "16\n",
      "tensor([0.0604])\n",
      "17\n",
      "tensor([0.1783])\n",
      "18\n",
      "tensor([0.4685])\n",
      "19\n",
      "tensor([0.3188])\n"
     ]
    }
   ],
   "source": [
    "import numpy as np\n",
    "epochs = 20\n",
    "trainSize = len(X_train)\n",
    "lr = 0.0001\n",
    "global lr\n",
    "X_trainnp = X_train.to_numpy()\n",
    "Y_trainnp = y_train.to_numpy()\n",
    "testModel = Model()\n",
    "batchSize = 256\n",
    "for epochNum in range(epochs):\n",
    "    print(epochNum)\n",
    "    sampleOrder = np.arange(trainSize)\n",
    "    np.random.shuffle(sampleOrder)\n",
    "    totalerror = 0\n",
    "    for batchNum in range(trainSize//batchSize + 1):\n",
    "        batchInd = sampleOrder[:batchSize]\n",
    "        sampleOrder = sampleOrder[batchSize:]\n",
    "        batch = X_trainnp[batchInd,:]\n",
    "        batchTarget = Y_trainnp[batchInd]\n",
    "        #print(batch)\n",
    "        for i in range(len(batch)):\n",
    "            #print(batch[i])\n",
    "            batchinput = torch.Tensor(np.float64(batch[i]))\n",
    "            output = testModel.forward(batchinput,batchTarget[i])\n",
    "            error = batchTarget[i] - output\n",
    "            totalerror += abs(error)\n",
    "            #temp.backprop(error,batch[i],output)\n",
    "        testModel.update()\n",
    "    totalerror = totalerror/trainSize\n",
    "    print(totalerror)\n",
    "    "
   ]
  },
  {
   "cell_type": "code",
   "execution_count": null,
   "metadata": {},
   "outputs": [],
   "source": []
  }
 ],
 "metadata": {
  "kernelspec": {
   "display_name": "Python 3",
   "language": "python",
   "name": "python3"
  },
  "language_info": {
   "codemirror_mode": {
    "name": "ipython",
    "version": 3
   },
   "file_extension": ".py",
   "mimetype": "text/x-python",
   "name": "python",
   "nbconvert_exporter": "python",
   "pygments_lexer": "ipython3",
   "version": "3.9.1"
  }
 },
 "nbformat": 4,
 "nbformat_minor": 4
}
